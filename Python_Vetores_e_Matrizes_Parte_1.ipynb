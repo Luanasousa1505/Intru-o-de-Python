{
  "nbformat": 4,
  "nbformat_minor": 0,
  "metadata": {
    "colab": {
      "name": "Python - Vetores e Matrizes - Parte 1.ipynb",
      "provenance": [],
      "collapsed_sections": [
        "IpMOX11Feg6o"
      ],
      "include_colab_link": true
    },
    "kernelspec": {
      "name": "python3",
      "display_name": "Python 3"
    }
  },
  "cells": [
    {
      "cell_type": "markdown",
      "metadata": {
        "id": "view-in-github",
        "colab_type": "text"
      },
      "source": [
        "<a href=\"https://colab.research.google.com/github/Luanasousa1505/Intru-o-de-Python/blob/main/Python_Vetores_e_Matrizes_Parte_1.ipynb\" target=\"_parent\"><img src=\"https://colab.research.google.com/assets/colab-badge.svg\" alt=\"Open In Colab\"/></a>"
      ]
    },
    {
      "cell_type": "markdown",
      "metadata": {
        "id": "lKlwpDmT3hNQ"
      },
      "source": [
        "# Vetores\n",
        "**VETOR** - Vetores são variáveis compostas unidimensionais que permitem armazenar um conjunto de dados. Eles são similares ao uso de várias variáveis, porém com uma grande vantagem na hora da manipulação, pois permitem o acesso aos valores a partir de um único nome de variável e um índice que indica o elemento a ser acessado. A lista de dados contidados num vetor são numerados de 0 a x, por exemplo: \n",
        "semana = ['Dom', 'Seg', 'Ter', 'Qua','Qui', 'Sex', 'Sáb] # Dom é o elemento 0 e 'Sáb' o elemento 6.\n",
        "\n",
        "* Se utilizarmos print(semana[3]) veremos 'Qua'"
      ]
    },
    {
      "cell_type": "code",
      "metadata": {
        "id": "epBzIyli3fjq",
        "colab": {
          "base_uri": "https://localhost:8080/",
          "height": 67
        },
        "outputId": "f224539c-f8ce-4f95-ccc6-6abbb0b5cda2"
      },
      "source": [
        "# Criando um vetor para uma lista de frutas\n",
        "frutas = ['Goiaba','Uva', 'Melão']\n",
        "print(frutas[0])\n",
        "print(frutas[1])\n",
        "print(frutas[2])"
      ],
      "execution_count": null,
      "outputs": [
        {
          "output_type": "stream",
          "text": [
            "Goiaba\n",
            "Uva\n",
            "Melão\n"
          ],
          "name": "stdout"
        }
      ]
    },
    {
      "cell_type": "code",
      "metadata": {
        "id": "4NCaagt7Sky0"
      },
      "source": [
        "# Adicionando novos elementos no vetor\n",
        "frutas = ['Goiaba','Uva', 'Melão']\n",
        "print(frutas)\n",
        "frutas.append('Limão')\n",
        "print(frutas)"
      ],
      "execution_count": null,
      "outputs": []
    },
    {
      "cell_type": "code",
      "metadata": {
        "id": "6Nfeo9_uTJ1B"
      },
      "source": [
        "# Excluindo um elemento do vetor\n",
        "frutas = ['Goiaba','Uva', 'Melão']\n",
        "print(frutas)\n",
        "frutas.remove('Uva')\n",
        "print(frutas)"
      ],
      "execution_count": null,
      "outputs": []
    },
    {
      "cell_type": "code",
      "metadata": {
        "id": "BaioqbSYTrWH",
        "colab": {
          "base_uri": "https://localhost:8080/"
        },
        "outputId": "e14ade29-2fe2-457d-f3dd-46df12b8d760"
      },
      "source": [
        "# Exemplo 1 - Receber o número do mês e mostrar o mês por extenso\n",
        "mes = ['Janeiro','Fevereiro','Março','Abril','Maio','Junho','Julho','Agosto','Setembro','Outubro','Novembro','Dezembro']\n",
        "num = int(input('Informe o número do mês (1 a 12) :'))\n",
        "num = num - 1\n",
        "if num<1 or num>12:\n",
        "  print(\"Mes inexistente.\")\n",
        "else:\n",
        "  print(mes[num-1])"
      ],
      "execution_count": 1,
      "outputs": [
        {
          "output_type": "stream",
          "name": "stdout",
          "text": [
            "Informe o número do mês (1 a 12) :3\n",
            "Fevereiro\n"
          ]
        }
      ]
    },
    {
      "cell_type": "code",
      "metadata": {
        "id": "6E0NUblbTHfr",
        "colab": {
          "base_uri": "https://localhost:8080/",
          "height": 34
        },
        "outputId": "280f6873-8b6b-457a-f73f-e0c43a164ca0"
      },
      "source": [
        "veiculo = []\n",
        "veiculo.append('Gol')\n",
        "print(veiculo[0])\n"
      ],
      "execution_count": null,
      "outputs": [
        {
          "output_type": "stream",
          "text": [
            "Gol\n"
          ],
          "name": "stdout"
        }
      ]
    },
    {
      "cell_type": "code",
      "metadata": {
        "id": "4hMxMcDJUgMe",
        "colab": {
          "base_uri": "https://localhost:8080/"
        },
        "outputId": "df1c8570-4712-41a6-e8f7-de381814ec18"
      },
      "source": [
        "# Exemplo 2 - Percorrendo todos os elementos de um vetor\n",
        "mes = ['Jan','Fev','Mar','Abr','Mai','Jun','Jul','Ago','Set','Out','Nov','Dez']\n",
        "for c in range(0,12):\n",
        "  print(mes[c])"
      ],
      "execution_count": 2,
      "outputs": [
        {
          "output_type": "stream",
          "name": "stdout",
          "text": [
            "Jan\n",
            "Fev\n",
            "Mar\n",
            "Abr\n",
            "Mai\n",
            "Jun\n",
            "Jul\n",
            "Ago\n",
            "Set\n",
            "Out\n",
            "Nov\n",
            "Dez\n"
          ]
        }
      ]
    },
    {
      "cell_type": "code",
      "metadata": {
        "id": "svh7s40BYat6"
      },
      "source": [
        "# Exemplo 3 - Percorrendo todos os elementos de um vetor - versão 2\n",
        "mes = ['Jan','Fev','Mar','Abr','Mai','Jun','Jul','Ago','Set','Out','Nov','Dez']\n",
        "for lido in mes:\n",
        "  print(lido)"
      ],
      "execution_count": null,
      "outputs": []
    },
    {
      "cell_type": "code",
      "metadata": {
        "id": "RXDuAlkSYmVl",
        "colab": {
          "base_uri": "https://localhost:8080/"
        },
        "outputId": "78b38859-8f31-4cae-9353-b4f9571759f2"
      },
      "source": [
        "# Exemplo 4 - Receber o nome de 10 pessoas e ao final mostrar a lista de nomes digitados\n",
        "listaNomes = []\n",
        "for c in range(0,3):\n",
        "  nome = input('Digite um nome :')\n",
        "  listaNomes.append(nome)\n",
        "  print(listaNomes)\n",
        "for c in range(0,3) :\n",
        "  print(listaNomes[c])\n",
        "# Final do Programa  "
      ],
      "execution_count": 3,
      "outputs": [
        {
          "output_type": "stream",
          "name": "stdout",
          "text": [
            "Digite um nome :ana\n",
            "['ana']\n",
            "Digite um nome :bruna\n",
            "['ana', 'bruna']\n",
            "Digite um nome :carolina\n",
            "['ana', 'bruna', 'carolina']\n",
            "ana\n",
            "bruna\n",
            "carolina\n"
          ]
        }
      ]
    },
    {
      "cell_type": "code",
      "metadata": {
        "id": "Br5VI4TIZYk1"
      },
      "source": [
        "print(nome)\n",
        "print(listaNomes)\n",
        "print(listaNomes[0])"
      ],
      "execution_count": null,
      "outputs": []
    },
    {
      "cell_type": "code",
      "metadata": {
        "id": "UOCGKChfZr81"
      },
      "source": [
        "# Exercício 1 - Faça um programa que receba o nome e a profissão de 5 pessoas. Ao final, mostre \n",
        "# a lista de nomes com as respectivas profissões.\n",
        "# Solução:\n",
        "nome = []\n",
        "prof = []\n",
        "for c in range(0,5):\n",
        "  pessoa = input('Digite o nome : ')\n",
        "  trab   = input('Digite a profissão : ')\n",
        "  nome.append(pessoa)\n",
        "  prof.append(trab)\n",
        "print(nome)\n",
        "print(prof)"
      ],
      "execution_count": null,
      "outputs": []
    },
    {
      "cell_type": "code",
      "metadata": {
        "id": "b8jGMYHrdxYO"
      },
      "source": [
        "# Exercício 2 - Faça um programa que receba o nome e o salário de 8 funcionários. Ao final, \n",
        "# mostre a lista de empregados com os respectivos salários e o somatório dos salários. \n",
        "# Solução:\n"
      ],
      "execution_count": null,
      "outputs": []
    },
    {
      "cell_type": "code",
      "metadata": {
        "id": "kKowWiQ2hSwx",
        "colab": {
          "base_uri": "https://localhost:8080/",
          "height": 310
        },
        "outputId": "dbc12968-e971-464b-a410-78c4ba14bbd0"
      },
      "source": [
        "import matplotlib.pyplot as graf  # Biblioteca que permite fazer gráficos\n",
        "x  = ['Jan','Fev','Mar','Abr','Mai','Jun']\n",
        "y  = [28900, 72300, 65432, 23456, 56723, 24567]\n",
        "graf.bar(x,y)\n",
        "graf.title(\"Grafico de Vendas semanais \\n 2022\")\n",
        "graf.xlabel(\"Meses\")\n",
        "graf.ylabel(\"Quantidade de Vendas\")\n",
        "graf.show()"
      ],
      "execution_count": 6,
      "outputs": [
        {
          "output_type": "display_data",
          "data": {
            "text/plain": [
              "<Figure size 432x288 with 1 Axes>"
            ],
            "image/png": "[encoded data removed]"
          },
          "metadata": {
            "needs_background": "light"
          }
        }
      ]
    },
    {
      "cell_type": "code",
      "metadata": {
        "id": "Vn86DnGslgcP",
        "colab": {
          "base_uri": "https://localhost:8080/",
          "height": 264
        },
        "outputId": "cac88597-7628-41c7-a03d-080a85484b88"
      },
      "source": [
        "import matplotlib.pyplot as graf\n",
        "frutas = ['Goiaba','Laranja','Manga', 'Abacaxi']\n",
        "vendas = [ 2100 , 3500 , 1200, 5800]\n",
        "graf.pie(vendas, labels = frutas)\n",
        "graf.title('Mercadão das Frutas')\n",
        "graf.show()"
      ],
      "execution_count": 7,
      "outputs": [
        {
          "output_type": "display_data",
          "data": {
            "text/plain": [
              "<Figure size 432x288 with 1 Axes>"
            ],
            "image/png": "[encoded data removed]"
          },
          "metadata": {}
        }
      ]
    },
    {
      "cell_type": "code",
      "metadata": {
        "id": "UqSKF5UanczJ",
        "colab": {
          "base_uri": "https://localhost:8080/"
        },
        "outputId": "9a7b760c-69dd-4114-de02-02b081965dd6"
      },
      "source": [
        "conjA = {1, 2, 3}\n",
        "conjb = {3, 7, 8}\n",
        "print(conjA - conjb)"
      ],
      "execution_count": 9,
      "outputs": [
        {
          "output_type": "stream",
          "name": "stdout",
          "text": [
            "{1, 2}\n"
          ]
        }
      ]
    },
    {
      "cell_type": "markdown",
      "metadata": {
        "id": "H5QvmzoxlO8l"
      },
      "source": [
        "#Matrizes\n",
        "As variáveis compostas bidimensionais permitem armazenar um conjunto de valores. Elas são similares ao uso de várias variáveis, porém com uma grande vantagem na hora de manipulá-las, pois permitem o acesso aos valores a partir de um único nome de variável e dois índices, sendo o primeiro para a indicação da linha e o segundo para a indicação da coluna que contém o dado a ser acessado.\n",
        "\n"
      ]
    },
    {
      "cell_type": "code",
      "metadata": {
        "id": "TxMcoZPxleGw"
      },
      "source": [
        "# Exemplo 1 -   matriz 3 por 3\n",
        "matriz3x3 = [ [2, 8, 5], [1, 9, 4], [7, 2, 3] ]\n",
        "print(matriz3x3[0])\n",
        "print(matriz3x3[1])\n",
        "print(matriz3x3[2])"
      ],
      "execution_count": null,
      "outputs": []
    },
    {
      "cell_type": "code",
      "metadata": {
        "id": "0mGxKbhbm506"
      },
      "source": [
        "# Exemplo 2 -   matriz 3 por 3 - Acessando um elemento específico\n",
        "matriz3x3 = [ [2, 8, 5], [1, 9, 4], [7, 2, 3] ]\n",
        "print(matriz3x3[0])\n",
        "print(matriz3x3[1])\n",
        "print(matriz3x3[2])\n",
        "print('Elemento da linha 1, coluna 2 : ' , matriz3x3[0][1])\n",
        "print('Elemento da linha 2, coluna 1 : ' , matriz3x3[1][0])\n",
        "print('Elemento da linha 3, coluna 3 : ' , matriz3x3[2][2])"
      ],
      "execution_count": null,
      "outputs": []
    },
    {
      "cell_type": "code",
      "metadata": {
        "id": "7RPf162dmILz"
      },
      "source": [
        "# Exemplo 3 -   matriz 3 por 3 - somando a lista\n",
        "matriz3x3 = [ [2, 8, 5], [8, 9, 4], [7, 2, 3] ]\n",
        "print(matriz3x3[0])\n",
        "print(matriz3x3[1])\n",
        "print(matriz3x3[2])\n",
        "print('Soma da primeira linha = ' , sum(matriz3x3[0]))\n",
        "print('Soma da segunda linha  = ' , sum(matriz3x3[1]))\n",
        "print('Soma da terceira linha = ' , sum(matriz3x3[2]))"
      ],
      "execution_count": null,
      "outputs": []
    },
    {
      "cell_type": "code",
      "metadata": {
        "id": "CkQFHyYprLHW",
        "colab": {
          "base_uri": "https://localhost:8080/",
          "height": 104
        },
        "outputId": "d8b408aa-9b25-4d97-b505-0c5afa8bd7a2"
      },
      "source": [
        "# Exercício - Construir o Jogo da Velha\n",
        "velha = [ [' ',' ', ' '],[' ',' ', ' '],[' ',' ', ' ']]\n",
        "print(velha[0][0],'|', velha[0][1],'|',velha[0][2])\n",
        "print('---------')\n",
        "print(velha[1][0],'|', velha[1][1],'|',velha[1][2])\n",
        "print('---------')\n",
        "print(velha[2][0],'|', velha[2][1],'|',velha[2][2])\n",
        "\n"
      ],
      "execution_count": null,
      "outputs": [
        {
          "output_type": "stream",
          "text": [
            "  |   |  \n",
            "---------\n",
            "  |   |  \n",
            "---------\n",
            "  |   |  \n"
          ],
          "name": "stdout"
        }
      ]
    },
    {
      "cell_type": "code",
      "metadata": {
        "id": "781YMSFgJoP5",
        "colab": {
          "base_uri": "https://localhost:8080/",
          "height": 67
        },
        "outputId": "a1150c98-71db-4678-b745-a42d93b2abc3"
      },
      "source": [
        "nome1 = 'João'\n",
        "nome2 = 'Pedro'\n",
        "nome3 = 'Rita'\n",
        "print(nome1)\n",
        "print(nome2)\n",
        "print(nome3)"
      ],
      "execution_count": null,
      "outputs": [
        {
          "output_type": "stream",
          "text": [
            "João\n",
            "Pedro\n",
            "Rita\n"
          ],
          "name": "stdout"
        }
      ]
    },
    {
      "cell_type": "code",
      "metadata": {
        "id": "VcsNVoiQNbxC",
        "colab": {
          "base_uri": "https://localhost:8080/",
          "height": 67
        },
        "outputId": "a9822305-8425-4349-990d-f976cc929230"
      },
      "source": [
        "alunos = ['João','Pedro','Rita']\n",
        "print(alunos)\n",
        "nome = input('digite um nome:')\n",
        "alunos.append(nome)\n",
        "print(alunos)"
      ],
      "execution_count": null,
      "outputs": [
        {
          "output_type": "stream",
          "text": [
            "['João', 'Pedro', 'Rita']\n",
            "digite um nome:Carlos\n",
            "['João', 'Pedro', 'Rita', 'Carlos']\n"
          ],
          "name": "stdout"
        }
      ]
    },
    {
      "cell_type": "code",
      "metadata": {
        "id": "4vNIXJQTPdeG",
        "colab": {
          "base_uri": "https://localhost:8080/",
          "height": 34
        },
        "outputId": "60bdd6f3-d6fc-4c92-dd76-d17cdf49acf1"
      },
      "source": [
        "funcionarios = ['Roberto', 'Maria','Luiz']\n",
        "print(funcionarios[0])\n"
      ],
      "execution_count": null,
      "outputs": [
        {
          "output_type": "stream",
          "text": [
            "Roberto\n"
          ],
          "name": "stdout"
        }
      ]
    }
  ]
}