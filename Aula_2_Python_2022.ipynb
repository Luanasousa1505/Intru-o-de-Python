{
  "nbformat": 4,
  "nbformat_minor": 0,
  "metadata": {
    "colab": {
      "name": "Aula_2_Python_Maio_2022.ipynb",
      "provenance": [],
      "collapsed_sections": [],
      "include_colab_link": true
    },
    "kernelspec": {
      "name": "python3",
      "display_name": "Python 3"
    },
    "language_info": {
      "name": "python"
    }
  },
  "cells": [
    {
      "cell_type": "markdown",
      "metadata": {
        "id": "view-in-github",
        "colab_type": "text"
      },
      "source": [
        "<a href=\"https://colab.research.google.com/github/Luanasousa1505/Intru-o-de-Python/blob/main/Aula_2_Python_2022.ipynb\" target=\"_parent\"><img src=\"https://colab.research.google.com/assets/colab-badge.svg\" alt=\"Open In Colab\"/></a>"
      ]
    },
    {
      "cell_type": "markdown",
      "source": [
        "Aula 1 - Linguagem PYTHON\n",
        "1.   Variáveis;\n",
        "2.   Comentários;\n",
        "3.   Entrada de Dados; e \n",
        "4.   Apresentação de Dados na Tela."
      ],
      "metadata": {
        "id": "pm73H817lfNK"
      }
    },
    {
      "cell_type": "markdown",
      "source": [
        "1 - Variáveis"
      ],
      "metadata": {
        "id": "mWz3l8vrnZ7o"
      }
    },
    {
      "cell_type": "code",
      "execution_count": null,
      "metadata": {
        "id": "8iO6D3dXleFZ"
      },
      "outputs": [],
      "source": [
        "nome = \"Maria\"\n",
        "idade = 19\n",
        "salario = 3298.95\n",
        "trabalha = True"
      ]
    },
    {
      "cell_type": "code",
      "source": [
        "nome = \"Pedro\"\n",
        "idade = 29\n",
        "salario = 2298.95\n",
        "trabalha = False\n",
        "print( type(nome))\n",
        "print( type(idade))\n",
        "print( type(salario))\n",
        "print( type(trabalha))"
      ],
      "metadata": {
        "id": "51hUTySXoIpA"
      },
      "execution_count": null,
      "outputs": []
    },
    {
      "cell_type": "code",
      "source": [
        "# Exemplo: Faça um programa que mostre o valor das parcelas a serem pagas \n",
        "#          na compra de um televisar em 12 vezes sem juros. Sabe-se que a \n",
        "#          TV custa 3600.99\n",
        "\n",
        "# Programa ParcelasTV\n",
        "preco = 3600.99\n",
        "parcelas = preco / 12\n",
        "print(\"Valor das Parcelas = \" , parcelas)\n",
        "# Final do programa"
      ],
      "metadata": {
        "colab": {
          "base_uri": "https://localhost:8080/"
        },
        "id": "xkJZvvJjouTh",
        "outputId": "dd0aada5-e020-40de-a269-571f863e8709"
      },
      "execution_count": null,
      "outputs": [
        {
          "output_type": "stream",
          "name": "stdout",
          "text": [
            "Valor das Parcelas =  300.0825\n"
          ]
        }
      ]
    },
    {
      "cell_type": "code",
      "source": [
        "# Exercício : Faça um programa que mostre a quantidade de litros de gasolina\n",
        "#             que uma pessoa gastará numa viagem de carro. Sabe-se que a distância\n",
        "#             a ser percorrida é de 450 Km e que o carro faz 12 Km/L.\n",
        "\n",
        "# Programa ViagemConsumo\n",
        "preco = 3600.99\n",
        "parcelas = preco / 12\n",
        "print(\"Valor das Parcelas = \" , parcelas)\n",
        "# Final do programa"
      ],
      "metadata": {
        "id": "4qit4pnrp9s5"
      },
      "execution_count": null,
      "outputs": []
    },
    {
      "cell_type": "markdown",
      "source": [
        "2 - Comentários"
      ],
      "metadata": {
        "id": "F6YcbXNGrDNi"
      }
    },
    {
      "cell_type": "code",
      "source": [
        "# O símbolo \"#\" é utilizado para incluir no programa uma linha de comentário.\n",
        "# Todas as instruções inseridas após o \"#\" serão ignoradas na execução do programa\n",
        "\n",
        "# Programa usoDeComentarios\n",
        "nome = \"Maria Helena\"  # nome do funcionário\n",
        "prof = \"Analista de Sistemas\"   # profissão da funcionária \n",
        "sal  = 4980.88 \n",
        "# Cálculo do abono\n",
        "abono = sal * 0.12    # o percentual do abono é de 12%\n",
        "# Apresentação do resultado\n",
        "print(\"Nome : \", nome)\n",
        "print(\"Profissão : \", prof)\n",
        "print(\"Salário : \", sal)\n",
        "print(\"Abono : \", abono)\n"
      ],
      "metadata": {
        "id": "-9Vx8uDTq2X4"
      },
      "execution_count": null,
      "outputs": []
    },
    {
      "cell_type": "code",
      "source": [
        "\"\"\" \n",
        "  O Python permite o uso de blocos de comentários, a partir do uso de 3 aspas \n",
        "  no início do comentário e 3 no final.\n",
        "\"\"\"\n",
        "''' Programa usoDeComentarios '''\n",
        "nome = \"Maria Helena\" \n",
        "prof = \"Analista de Sistemas\"  \n",
        "sal  = 4980.88 \n",
        "abono = sal * 0.12    \n",
        "print(\"Nome : \", nome)\n",
        "print(\"Profissão : \", prof)\n",
        "print(\"Salário : \", sal)\n",
        "print(\"Abono : \", abono)"
      ],
      "metadata": {
        "id": "6Rd__9oqtX1Y"
      },
      "execution_count": null,
      "outputs": []
    },
    {
      "cell_type": "markdown",
      "source": [
        "3 - Entrada de Dados\n",
        "\n",
        "input() - Função que permite receber dados.\n",
        "\n",
        "Sintaxe: variável = input(\"Mensagem orientando a digitação do usuário:\")\n",
        "\n",
        "  Exemplo Portugol: \n",
        "  Escreva(\"Digite o seu nome : \")\n",
        "  Leia nome\n",
        "\n",
        "  Exemplo no Python:\n",
        "  nome = input(\"Digite o seu nome : \")    \n",
        "\n",
        "    Observação: Os dados recebidos no input são \n",
        "    sempre do tipo STRING. Sendo assim, precisamos \n",
        "    das funções int() e float() para converter os \n",
        "    dados para os tipos números necessários."
      ],
      "metadata": {
        "id": "zNKxYuOCu484"
      }
    },
    {
      "cell_type": "code",
      "source": [
        "# Exemplo: Faça um Programa para receber o nome, a cidade e a profissão de uma pessoa.\n",
        "\n",
        "# Programa RecebeDados\n",
        "nome = input(\"Digite o seu nome : \")\n",
        "cidade = input(nome + \"Digite a cidade : \")\n",
        "profissao = input(\"Digite a profissão : \")\n",
        "# final do programa\n"
      ],
      "metadata": {
        "id": "zn4cVR9uu_5I",
        "colab": {
          "base_uri": "https://localhost:8080/"
        },
        "outputId": "791c20e0-f231-4ffc-949f-ece0c5be3b69"
      },
      "execution_count": null,
      "outputs": [
        {
          "name": "stdout",
          "output_type": "stream",
          "text": [
            "Digite o seu nome : luana\n",
            "luanaDigite a cidade : bsb\n",
            "Digite a profissão : Gamer\n"
          ]
        }
      ]
    },
    {
      "cell_type": "code",
      "source": [
        "# Exercício: Escreva um programa que receba o Nome, a Profissão, o Tempo de Serviço e \n",
        "#            o Salário de uma pessoa. Será necessário utilizar as funções float() e int()\n",
        "#            para converter os dados para o tipo de dado desejado.\n",
        "\n",
        "# Programa ExemploEntradaDeDados\n",
        "nome = input(\"Digite o seu nome : \")\n",
        "tempodeservico = int(input( \"Digite o tempo de serviço : \"))\n",
        "salario = float(input(\"Digite o valor do salario : \"))\n",
        "profissao = input(\"Digite sua profissão : \")\n",
        "sexo = input(\"Digite o sexo\")\n",
        "if sexo.upper() ==\"M\":\n",
        " print(\"Alistamento\")"
      ],
      "metadata": {
        "id": "gfEXjrUly1gq"
      },
      "execution_count": null,
      "outputs": []
    },
    {
      "cell_type": "markdown",
      "source": [
        "4 - Apresentação de Dados\n",
        "\n",
        "print() - Permite apresentar dados na tela. Podemos utilizar mensagens entre aspas, variáveis e/ou operações matemáticas dentro dos parênteses."
      ],
      "metadata": {
        "id": "kpeN18ntzxy4"
      }
    },
    {
      "cell_type": "code",
      "source": [
        "# Exemplo 1 - Uso do print()\n",
        "print(\"Lógica de Programação do Python\")  # Apresentação de mensagem\n",
        "nome = \"José\"\n",
        "print(nome)   # Apresentação de variável\n",
        "print(\"Boa noite \" , nome) # Apresentação de mensagem com variável\n",
        "sal = 3580.88\n",
        "print(\"Abono = \" , sal * 0.12) # Apresentação de mensagem com expressão matemática"
      ],
      "metadata": {
        "id": "EURjDCAw0rij",
        "colab": {
          "base_uri": "https://localhost:8080/"
        },
        "outputId": "d00c2b86-d387-4681-9140-800f75c3f0b4"
      },
      "execution_count": null,
      "outputs": [
        {
          "output_type": "stream",
          "name": "stdout",
          "text": [
            "Lógica de Programação do Python\n",
            "José\n",
            "Boa noite  José\n",
            "Abono =  429.7056\n"
          ]
        }
      ]
    },
    {
      "cell_type": "code",
      "source": [
        "# Exemplo 2 - Uso do print()\n",
        "funcionario = \"João\"\n",
        "profissao = \"Analista de Sistemas\"\n",
        "salario = 5000.95\n",
        "print(  funcionario , \" é \" , profissao , \" e ganha  \" ,  salario )\n",
        "print(  \"A gratificação do \" ,  funcionario ,  \"  é  \"  ,  salario * 15 / 100 )\n",
        "# fim "
      ],
      "metadata": {
        "id": "DQEGx1g6zxEq"
      },
      "execution_count": null,
      "outputs": []
    },
    {
      "cell_type": "code",
      "source": [
        "# Exemplo 3 - Uso do print() com formatação\n",
        "preco = 3765.49\n",
        "desconto = preco * 0.0276\n",
        "\n",
        "# Valores sem formatação\n",
        "print(\"Preço do produto  = \" , preco)\n",
        "print(\"Preço do desconto = \" , desconto)\n",
        "\n",
        "\n",
        "# Valores com formatação\n",
        "print(f\"\\nPreço do produto  = {preco}\")\n",
        "print(f\"Preço do desconto = {desconto}\")\n",
        "print(f\"Preço do desconto = {desconto:.2f}\")\n",
        "print(f\"Preço do produto  = {preco:10.2f}\")\n",
        "print(f\"Preço do desconto = {desconto:10.2f}\")\n"
      ],
      "metadata": {
        "id": "sf6eYguu2dSR"
      },
      "execution_count": null,
      "outputs": []
    },
    {
      "cell_type": "code",
      "source": [
        "# Exercício 1 : Faça um algoritmo que receba as medidas da base e altura de um\n",
        "#    retângulo, calcule e apresente a área e o perímetro deste retângulo.\n",
        "#    Fórmulas: Área = base x altura  \n",
        "#              Perímetro = (2 x base) + (2 x altura)\n",
        "base =float(input(\"Digite tamanho da base\"))\n",
        "altura = float(input(\"Digite a atura\"))\n",
        "\n",
        "area = base*altura\n",
        "perimetro = (2*base)+(2*altura)\n",
        "print(\"\\n A auturado seu triangulo é:\",area,\"\\n\\n Com o perimetro de:\",perimetro)"
      ],
      "metadata": {
        "id": "d7fbEvE95J36",
        "colab": {
          "base_uri": "https://localhost:8080/"
        },
        "outputId": "8aba2efe-a496-4837-d51b-6ea3eaea509e"
      },
      "execution_count": null,
      "outputs": [
        {
          "output_type": "stream",
          "name": "stdout",
          "text": [
            "Digite tamanho da base24\n",
            "Digite a atura5\n",
            "\n",
            " A auturado seu triangulo é: 120.0 \n",
            "\n",
            " Com o perimetro de: 58.0\n"
          ]
        }
      ]
    },
    {
      "cell_type": "code",
      "source": [
        "# Exercício 2 : Uma revendedora de carros usados paga a seus vendedores um \n",
        "#    salário fixo por mês, mais uma comissão de 0,5% sobre o valor total das\n",
        "#    vendas realizadas pelo vendedor. Escreva um algoritmo que calcule e exiba\n",
        "#    o salário final de um vendedor.\n",
        "\n",
        "salario = float(input(\"\\nDigite o salario:\\n\"))\n",
        "vendas = float(input(\"\\nInforme o total de vendas:\\n\"))\n",
        "\n",
        "comissao = (vendas *0.005)\n",
        "\n",
        "print(\"sua comissão sera de:\",comissao,\"\\n\\n o seu total sera de:\",comissao+salario)"
      ],
      "metadata": {
        "id": "ybHGT_DU6cGD",
        "colab": {
          "base_uri": "https://localhost:8080/"
        },
        "outputId": "f6222853-dd99-4eb7-9745-8e73bdf604b2"
      },
      "execution_count": null,
      "outputs": [
        {
          "output_type": "stream",
          "name": "stdout",
          "text": [
            "\n",
            "Digite o salario:\n",
            "0977\n",
            "\n",
            "Informe o total de vendas:\n",
            "08789\n",
            "sua comissão sera de: 43.945 \n",
            "\n",
            " o seu total sera de: 1020.945\n"
          ]
        }
      ]
    },
    {
      "cell_type": "code",
      "source": [
        "# Exercício 3 : A DoceLar, loja especializada em eletrodomésticos, está vendendo\n",
        "#    os produtos com 20% de desconto, parcelados em 5 vezes sem juros. Faça um\n",
        "#    programa que receba o valor da compra do cliente, calcule e mostre o valor\n",
        "#    do desconto e o valor das prestações a serem pagas. \n",
        "compra = float(input(\"Digite o valor da compra:\"))\n",
        "\n",
        "descontos = compra*0.20\n",
        "total = compra - descontos\n",
        "\n",
        "print(f\"\\n\\n O seu desconto sera de:R${descontos: .2f}\")\n",
        "print(\"\\n\\n O Total da sua compra com descontos ser:R$\",total)\n",
        "print(f\"\\n\\n Voce pode pagar em ate 5x:R$\\n{total/5:.2f}\")"
      ],
      "metadata": {
        "id": "_ldABqEl6vMi"
      },
      "execution_count": null,
      "outputs": []
    }
  ]
}